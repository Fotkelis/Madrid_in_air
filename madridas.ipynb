{
 "cells": [
  {
   "cell_type": "code",
   "execution_count": null,
   "metadata": {},
   "outputs": [],
   "source": [
    "import pandas as pd\n",
    "import matplotlib.pyplot as plt\n",
    "\n",
    "# Skaityti CSV failą\n",
    "df = pd.read_csv('MadridPolution2001-2022.csv')\n",
    "\n",
    "# Vizualizuoti\n",
    "plt.plot(df['Time'], df['BEN'], marker='o', label='BEN')\n",
    "plt.title('Taršumo pokytis')\n",
    "plt.xlabel('Laikas')\n",
    "plt.ylabel('Benas')\n",
    "plt.legend()\n",
    "plt.grid()\n",
    "plt.show()\n"
   ]
  }
 ],
 "metadata": {
  "kernelspec": {
   "display_name": "venv",
   "language": "python",
   "name": "python3"
  },
  "language_info": {
   "codemirror_mode": {
    "name": "ipython",
    "version": 3
   },
   "file_extension": ".py",
   "mimetype": "text/x-python",
   "name": "python",
   "nbconvert_exporter": "python",
   "pygments_lexer": "ipython3",
   "version": "3.13.0"
  }
 },
 "nbformat": 4,
 "nbformat_minor": 2
}
