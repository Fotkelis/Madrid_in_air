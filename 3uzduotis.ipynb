{
 "cells": [
  {
   "cell_type": "markdown",
   "metadata": {},
   "source": [
    "# Pirma dalis (stemplės vėžio duomenų rinkinys)\n",
    "\n",
    "https://www.kaggle.com/datasets/abhinaba1biswas/esophageal-cancer-dataset\n",
    "Atydžiai perskaitykite duomenų rinkinio aprašymą ir atsisiųskite duomenų rinkinį.\n",
    "!!! Nepamirškite pažymėti visų stulpelių !!!\n",
    "\n",
    "## Duomenų tvarkymas\n",
    "\n",
    "1. Jei pritaikoma, sutvarkykite trūkstamas reikšmes (atkreipkite dėmesį, kad duomenys iš medicinos sektoriaus).\n",
    "2. Sutraukite stulpelius (pvz. datos stulpelius)\n",
    "3. Išveskite naujus, naudingus stulpelius (pvz. ar turėjo žalingą įprotį)\n",
    "\n",
    "## Tiriamoji duomenų analizė\n",
    "\n",
    "1. Atlikite duomenų rinkinio demografinę analizę (amžius, lytis)\n",
    "2. Atlikite vėžio tipų, stadijų ir kt. analizę (Histologija)\n",
    "3. Atlikite vėžio gydymo analizę\n",
    "4. Atlikite paciento rezultatų analizę (\"Performance Score/Status\" ir pan.)\n",
    "5. Atlikite išorinių faktorių analizę (Rūkymas ir pan.)\n",
    "\n",
    "# Antra dalis (Madrido orų kokybės analizė)\n",
    "\n",
    "https://www.kaggle.com/datasets/ignacioqg/20012022-hourly-dataset-of-pollution-in-madrid\n",
    "Atydžiai perskaitykite duomenų rinkinio aprašymą ir atsisiųskite duomenų rinkinį.\n",
    "!!! Nepamirškite pažymėti visų stulpelių !!!\n",
    "\n",
    "## Transformacijos\n",
    "\n",
    "1. Jei pritaikoma, sutvarkykite trūkstamas reikšmes\n",
    "2. Transformuokite teršalų reikšmes į skales nuo 0 iki 1 (kad galima būtų lyginti tarpusavyje)\n",
    "3. Raskite vidutines kasdienes/kasmėnesines/kasmetines teršalų reikšmes\n",
    "4. kt.\n",
    "\n",
    "## Vizualizacijos\n",
    "\n",
    "1. Pavaizduokite pokyčius per laiką, raskite ar yra pasikartojimų, jų dažnį\n",
    "2. Analizuokite kaip teršalai susiiję tarpusavyje\n",
    "3. kt.\n",
    "\n",
    "\n",
    "\n",
    "\n",
    "\n",
    "# Reikalavimai\n",
    "\n",
    "1. Ryšių iliustravimas\n",
    "2. Pastabėjimų užrašymas\n",
    "3. Darbo patalpinimas GitHub public repozitorijoje\n",
    "4. Pasiruošimas pristatyti savo pastebėjimus glaustai, punktais, iliustruojant grafikais\n",
    "\n"
   ]
  },
  {
   "cell_type": "code",
   "execution_count": 2,
   "metadata": {},
   "outputs": [
    {
     "ename": "ModuleNotFoundError",
     "evalue": "No module named 'pandas'",
     "output_type": "error",
     "traceback": [
      "\u001b[1;31m---------------------------------------------------------------------------\u001b[0m",
      "\u001b[1;31mModuleNotFoundError\u001b[0m                       Traceback (most recent call last)",
      "Cell \u001b[1;32mIn[2], line 1\u001b[0m\n\u001b[1;32m----> 1\u001b[0m \u001b[38;5;28;01mimport\u001b[39;00m \u001b[38;5;21;01mpandas\u001b[39;00m \u001b[38;5;28;01mas\u001b[39;00m \u001b[38;5;21;01mpd\u001b[39;00m\n\u001b[0;32m      2\u001b[0m \u001b[38;5;28;01mimport\u001b[39;00m \u001b[38;5;21;01mmatplotlib\u001b[39;00m\u001b[38;5;21;01m.\u001b[39;00m\u001b[38;5;21;01mpyplot\u001b[39;00m \u001b[38;5;28;01mas\u001b[39;00m \u001b[38;5;21;01mplt\u001b[39;00m\n\u001b[0;32m      4\u001b[0m \u001b[38;5;66;03m# Skaityti CSV failą\u001b[39;00m\n",
      "\u001b[1;31mModuleNotFoundError\u001b[0m: No module named 'pandas'"
     ]
    }
   ],
   "source": [
    "import pandas as pd\n",
    "import matplotlib.pyplot as plt\n",
    "\n",
    "# Skaityti CSV failą\n",
    "df = pd.read_csv('MadridPolution2001-2022.csv')\n",
    "\n",
    "# Vizualizuoti\n",
    "plt.plot(df['Laikas'], df['Temperatura'], marker='o', label='Temperatūra')\n",
    "plt.title('Temperatūros pokytis')\n",
    "plt.xlabel('Laikas')\n",
    "plt.ylabel('Temperatūra')\n",
    "plt.legend()\n",
    "plt.grid()\n",
    "plt.show()\n"
   ]
  }
 ],
 "metadata": {
  "kernelspec": {
   "display_name": "Python 3",
   "language": "python",
   "name": "python3"
  },
  "language_info": {
   "codemirror_mode": {
    "name": "ipython",
    "version": 3
   },
   "file_extension": ".py",
   "mimetype": "text/x-python",
   "name": "python",
   "nbconvert_exporter": "python",
   "pygments_lexer": "ipython3",
   "version": "3.12.6"
  }
 },
 "nbformat": 4,
 "nbformat_minor": 2
}
